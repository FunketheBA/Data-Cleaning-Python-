{
 "cells": [
  {
   "cell_type": "code",
   "execution_count": 4,
   "id": "4fcd5277",
   "metadata": {
    "scrolled": true
   },
   "outputs": [
    {
     "data": {
      "text/html": [
       "<div>\n",
       "<style scoped>\n",
       "    .dataframe tbody tr th:only-of-type {\n",
       "        vertical-align: middle;\n",
       "    }\n",
       "\n",
       "    .dataframe tbody tr th {\n",
       "        vertical-align: top;\n",
       "    }\n",
       "\n",
       "    .dataframe thead th {\n",
       "        text-align: right;\n",
       "    }\n",
       "</style>\n",
       "<table border=\"1\" class=\"dataframe\">\n",
       "  <thead>\n",
       "    <tr style=\"text-align: right;\">\n",
       "      <th></th>\n",
       "      <th>Player Code</th>\n",
       "      <th>Player Name</th>\n",
       "      <th>Match Number</th>\n",
       "      <th>Number of Wickets Taken</th>\n",
       "      <th>Number of Runs</th>\n",
       "    </tr>\n",
       "  </thead>\n",
       "  <tbody>\n",
       "    <tr>\n",
       "      <th>1</th>\n",
       "      <td>45234</td>\n",
       "      <td>Maud Nicholson</td>\n",
       "      <td>M1</td>\n",
       "      <td>2.0</td>\n",
       "      <td>82.0</td>\n",
       "    </tr>\n",
       "    <tr>\n",
       "      <th>2</th>\n",
       "      <td>45234</td>\n",
       "      <td>Maud Nicholson</td>\n",
       "      <td>M3</td>\n",
       "      <td>3.0</td>\n",
       "      <td>71.0</td>\n",
       "    </tr>\n",
       "    <tr>\n",
       "      <th>3</th>\n",
       "      <td>45234</td>\n",
       "      <td>Maud Nicholson</td>\n",
       "      <td>M5</td>\n",
       "      <td>0.0</td>\n",
       "      <td>36.0</td>\n",
       "    </tr>\n",
       "    <tr>\n",
       "      <th>4</th>\n",
       "      <td>45234</td>\n",
       "      <td>Maud Nicholson</td>\n",
       "      <td>M6</td>\n",
       "      <td>1.0</td>\n",
       "      <td>76.0</td>\n",
       "    </tr>\n",
       "    <tr>\n",
       "      <th>6</th>\n",
       "      <td>4578</td>\n",
       "      <td>Logan Thomas</td>\n",
       "      <td>M1</td>\n",
       "      <td>0.0</td>\n",
       "      <td>4.0</td>\n",
       "    </tr>\n",
       "    <tr>\n",
       "      <th>...</th>\n",
       "      <td>...</td>\n",
       "      <td>...</td>\n",
       "      <td>...</td>\n",
       "      <td>...</td>\n",
       "      <td>...</td>\n",
       "    </tr>\n",
       "    <tr>\n",
       "      <th>116</th>\n",
       "      <td>6634556</td>\n",
       "      <td>Tyriq Crouch</td>\n",
       "      <td>M1</td>\n",
       "      <td>0.0</td>\n",
       "      <td>16.0</td>\n",
       "    </tr>\n",
       "    <tr>\n",
       "      <th>117</th>\n",
       "      <td>6634556</td>\n",
       "      <td>Tyriq Crouch</td>\n",
       "      <td>M3</td>\n",
       "      <td>3.0</td>\n",
       "      <td>21.0</td>\n",
       "    </tr>\n",
       "    <tr>\n",
       "      <th>119</th>\n",
       "      <td>33254</td>\n",
       "      <td>Ray Novak</td>\n",
       "      <td>M1</td>\n",
       "      <td>4.0</td>\n",
       "      <td>55.0</td>\n",
       "    </tr>\n",
       "    <tr>\n",
       "      <th>120</th>\n",
       "      <td>33254</td>\n",
       "      <td>Ray Novak</td>\n",
       "      <td>M3</td>\n",
       "      <td>0.0</td>\n",
       "      <td>30.0</td>\n",
       "    </tr>\n",
       "    <tr>\n",
       "      <th>121</th>\n",
       "      <td>33254</td>\n",
       "      <td>Ray Novak</td>\n",
       "      <td>M5</td>\n",
       "      <td>1.0</td>\n",
       "      <td>78.0</td>\n",
       "    </tr>\n",
       "  </tbody>\n",
       "</table>\n",
       "<p>80 rows × 5 columns</p>\n",
       "</div>"
      ],
      "text/plain": [
       "     Player Code     Player Name Match Number  Number of Wickets Taken  \\\n",
       "1          45234  Maud Nicholson           M1                      2.0   \n",
       "2          45234  Maud Nicholson           M3                      3.0   \n",
       "3          45234  Maud Nicholson           M5                      0.0   \n",
       "4          45234  Maud Nicholson           M6                      1.0   \n",
       "6           4578    Logan Thomas           M1                      0.0   \n",
       "..           ...             ...          ...                      ...   \n",
       "116      6634556    Tyriq Crouch           M1                      0.0   \n",
       "117      6634556    Tyriq Crouch           M3                      3.0   \n",
       "119        33254       Ray Novak           M1                      4.0   \n",
       "120        33254       Ray Novak           M3                      0.0   \n",
       "121        33254       Ray Novak           M5                      1.0   \n",
       "\n",
       "     Number of Runs  \n",
       "1              82.0  \n",
       "2              71.0  \n",
       "3              36.0  \n",
       "4              76.0  \n",
       "6               4.0  \n",
       "..              ...  \n",
       "116            16.0  \n",
       "117            21.0  \n",
       "119            55.0  \n",
       "120            30.0  \n",
       "121            78.0  \n",
       "\n",
       "[80 rows x 5 columns]"
      ]
     },
     "execution_count": 4,
     "metadata": {},
     "output_type": "execute_result"
    }
   ],
   "source": [
    "import pandas as pd\n",
    "import numpy as np\n",
    "data=pd.read_excel('BA Program Assignment 3 - Data Cleaning.xlsx')\n",
    "data.head(50)\n",
    "data=pd.read_excel('BA Program Assignment 3 - Data Cleaning.xlsx',skiprows=4)\n",
    "data=data.dropna(how='all',axis=0)\n",
    "data=data.dropna(how='all',axis=1)\n",
    "data.head()\n",
    "data=data.dropna(how='all',axis=0)\n",
    "data=data.dropna(how='all',axis=1)\n",
    "data.head()\n",
    "data.columns\n",
    "data.columns=data.columns.str.strip()\n",
    "data=data.replace(' ',None)\n",
    "data.columns\n",
    "data.dropna(subset=['Match Number'], inplace=True)\n",
    "data.head(50)\n",
    "data = data.fillna(method='ffill')\n",
    "data.head(80)\n",
    "data = data.fillna(method='ffill').interpolate(method='pad')\n",
    "data.head(80)\n",
    "data = data.drop_duplicates()\n",
    "data.head(80)\n",
    "\n"
   ]
  },
  {
   "cell_type": "code",
   "execution_count": null,
   "id": "a6be8ad3",
   "metadata": {},
   "outputs": [],
   "source": []
  },
  {
   "cell_type": "code",
   "execution_count": null,
   "id": "67834c4b",
   "metadata": {},
   "outputs": [],
   "source": [
    "What is the total number of runs made in each match (M1 till M8) ?"
   ]
  },
  {
   "cell_type": "code",
   "execution_count": 5,
   "id": "fca2d744",
   "metadata": {
    "scrolled": true
   },
   "outputs": [
    {
     "data": {
      "text/html": [
       "<div>\n",
       "<style scoped>\n",
       "    .dataframe tbody tr th:only-of-type {\n",
       "        vertical-align: middle;\n",
       "    }\n",
       "\n",
       "    .dataframe tbody tr th {\n",
       "        vertical-align: top;\n",
       "    }\n",
       "\n",
       "    .dataframe thead th {\n",
       "        text-align: right;\n",
       "    }\n",
       "</style>\n",
       "<table border=\"1\" class=\"dataframe\">\n",
       "  <thead>\n",
       "    <tr style=\"text-align: right;\">\n",
       "      <th></th>\n",
       "      <th>Player Code</th>\n",
       "      <th>Number of Runs</th>\n",
       "    </tr>\n",
       "    <tr>\n",
       "      <th>Number of Wickets Taken</th>\n",
       "      <th></th>\n",
       "      <th></th>\n",
       "    </tr>\n",
       "  </thead>\n",
       "  <tbody>\n",
       "    <tr>\n",
       "      <th>0.0</th>\n",
       "      <td>192890101</td>\n",
       "      <td>1808.0</td>\n",
       "    </tr>\n",
       "    <tr>\n",
       "      <th>1.0</th>\n",
       "      <td>23372186</td>\n",
       "      <td>1264.0</td>\n",
       "    </tr>\n",
       "    <tr>\n",
       "      <th>2.0</th>\n",
       "      <td>9217897954</td>\n",
       "      <td>1396.0</td>\n",
       "    </tr>\n",
       "    <tr>\n",
       "      <th>3.0</th>\n",
       "      <td>70813872</td>\n",
       "      <td>1708.0</td>\n",
       "    </tr>\n",
       "    <tr>\n",
       "      <th>4.0</th>\n",
       "      <td>4733298989</td>\n",
       "      <td>1340.0</td>\n",
       "    </tr>\n",
       "  </tbody>\n",
       "</table>\n",
       "</div>"
      ],
      "text/plain": [
       "                         Player Code  Number of Runs\n",
       "Number of Wickets Taken                             \n",
       "0.0                        192890101          1808.0\n",
       "1.0                         23372186          1264.0\n",
       "2.0                       9217897954          1396.0\n",
       "3.0                         70813872          1708.0\n",
       "4.0                       4733298989          1340.0"
      ]
     },
     "execution_count": 5,
     "metadata": {},
     "output_type": "execute_result"
    }
   ],
   "source": [
    "data.groupby('Number of Wickets Taken').sum()\n"
   ]
  },
  {
   "cell_type": "code",
   "execution_count": 6,
   "id": "9971df4f",
   "metadata": {
    "collapsed": true
   },
   "outputs": [
    {
     "data": {
      "text/plain": [
       "Match Number\n",
       "M1    3623.0\n",
       "M2     259.0\n",
       "M3    2309.0\n",
       "M4      19.0\n",
       "M5    1124.0\n",
       "M6      83.0\n",
       "M7      68.0\n",
       "M8      31.0\n",
       "Name: Number of Runs, dtype: float64"
      ]
     },
     "execution_count": 6,
     "metadata": {},
     "output_type": "execute_result"
    }
   ],
   "source": [
    "data.groupby('Match Number')['Number of Runs'].sum()"
   ]
  },
  {
   "cell_type": "code",
   "execution_count": null,
   "id": "cd994496",
   "metadata": {},
   "outputs": [],
   "source": [
    "Show the average number of runs made in each Match (M1 till M8) using a bar graph.\n"
   ]
  },
  {
   "cell_type": "code",
   "execution_count": 9,
   "id": "7774a50f",
   "metadata": {
    "scrolled": true
   },
   "outputs": [
    {
     "data": {
      "text/plain": [
       "<AxesSubplot:xlabel='Match Number', ylabel='Number of Runs'>"
      ]
     },
     "execution_count": 9,
     "metadata": {},
     "output_type": "execute_result"
    },
    {
     "data": {
      "image/png": "[encoded data removed]",
      "text/plain": [
       "<Figure size 432x288 with 1 Axes>"
      ]
     },
     "metadata": {
      "needs_background": "light"
     },
     "output_type": "display_data"
    }
   ],
   "source": [
    "import seaborn as sns\n",
    "import matplotlib as plt\n",
    "import numpy as np\n",
    "import matplotlib.pyplot as plt\n",
    "avg=pd.pivot_table(data,index='Match Number',values='Number of Runs',aggfunc='mean')\n",
    "avg.plot.bar(ylabel='Number of Runs')"
   ]
  },
  {
   "cell_type": "code",
   "execution_count": null,
   "id": "4aed31f4",
   "metadata": {},
   "outputs": [],
   "source": []
  },
  {
   "cell_type": "code",
   "execution_count": null,
   "id": "97a2370b",
   "metadata": {},
   "outputs": [],
   "source": [
    "5a) Find out the correlation between total bill, tip and size column using appropriate data frame method.\n",
    "\n",
    "5b) Show the result of question 4 in a form of a seaborn package heatmap."
   ]
  },
  {
   "cell_type": "code",
   "execution_count": 13,
   "id": "70badea0",
   "metadata": {},
   "outputs": [
    {
     "name": "stdout",
     "output_type": "stream",
     "text": [
      "            total_bill       tip      size\n",
      "total_bill    1.000000  0.675734  0.598315\n",
      "tip           0.675734  1.000000  0.489299\n",
      "size          0.598315  0.489299  1.000000\n"
     ]
    },
    {
     "data": {
      "text/plain": [
       "<AxesSubplot:ylabel='Match Number'>"
      ]
     },
     "execution_count": 13,
     "metadata": {},
     "output_type": "execute_result"
    },
    {
     "data": {
      "image/png": "[encoded data removed]",
      "text/plain": [
       "<Figure size 432x288 with 2 Axes>"
      ]
     },
     "metadata": {
      "needs_background": "light"
     },
     "output_type": "display_data"
    }
   ],
   "source": [
    "import pandas as pd\n",
    "tips=pd.read_excel('tips.xlsx')\n",
    "print(tips[\n",
    "    ['total_bill','tip','size']].corr())\n",
    "import seaborn as sns\n",
    "sns.heatmap(avg,annot=True,fmt='g',cmap='viridis')"
   ]
  },
  {
   "cell_type": "code",
   "execution_count": null,
   "id": "0e0905d1",
   "metadata": {},
   "outputs": [],
   "source": []
  },
  {
   "cell_type": "code",
   "execution_count": null,
   "id": "4b214615",
   "metadata": {},
   "outputs": [],
   "source": []
  },
  {
   "cell_type": "code",
   "execution_count": null,
   "id": "3430aa26",
   "metadata": {},
   "outputs": [],
   "source": []
  }
 ],
 "metadata": {
  "kernelspec": {
   "display_name": "Python 3 (ipykernel)",
   "language": "python",
   "name": "python3"
  },
  "language_info": {
   "codemirror_mode": {
    "name": "ipython",
    "version": 3
   },
   "file_extension": ".py",
   "mimetype": "text/x-python",
   "name": "python",
   "nbconvert_exporter": "python",
   "pygments_lexer": "ipython3",
   "version": "3.9.12"
  }
 },
 "nbformat": 4,
 "nbformat_minor": 5
}
